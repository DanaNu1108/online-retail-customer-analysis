{
 "cells": [
  {
   "cell_type": "code",
   "execution_count": 6,
   "id": "bb980a7f-0a57-4a66-93ec-41714850333e",
   "metadata": {},
   "outputs": [
    {
     "name": "stderr",
     "output_type": "stream",
     "text": [
      "C:\\Users\\USER\\AppData\\Local\\Temp\\ipykernel_22212\\3425614231.py:19: FutureWarning: \n",
      "\n",
      "Passing `palette` without assigning `hue` is deprecated and will be removed in v0.14.0. Assign the `x` variable to `hue` and set `legend=False` for the same effect.\n",
      "\n",
      "  sns.countplot(data=rfm, x='Cluster', palette='Set2', ax=ax)\n"
     ]
    },
    {
     "data": {
      "text/plain": [
       "DeltaGenerator()"
      ]
     },
     "execution_count": 6,
     "metadata": {},
     "output_type": "execute_result"
    }
   ],
   "source": [
    "import streamlit as st\n",
    "import pandas as pd\n",
    "import seaborn as sns\n",
    "import matplotlib.pyplot as plt\n",
    "\n",
    "# Set page config\n",
    "st.set_page_config(page_title=\"Customer Segmentation Dashboard\", layout=\"wide\")\n",
    "\n",
    "# Title and intro\n",
    "st.title(\"Customer Segmentation Dashboard\")\n",
    "st.markdown(\"An interactive dashboard to explore RFM-based customer clusters from the Online Retail dataset.\")\n",
    "\n",
    "# Load data\n",
    "rfm = pd.read_csv(\"rfm_clusters.csv\")\n",
    "\n",
    "# Section: Cluster distribution\n",
    "st.subheader(\"Customer Distribution by Cluster\")\n",
    "fig, ax = plt.subplots()\n",
    "sns.countplot(data=rfm, x='Cluster', palette='Set2', ax=ax)\n",
    "ax.set_title(\"Number of Customers per Cluster\")\n",
    "st.pyplot(fig)"
   ]
  },
  {
   "cell_type": "code",
   "execution_count": 7,
   "id": "3c1e7ac8-4051-43cc-b22a-ba08ab003ae6",
   "metadata": {},
   "outputs": [],
   "source": [
    "# Cross-feature visualizations\n",
    "st.subheader(\"Cluster Visualization by RFM Variables\")\n",
    "\n",
    "# Set up three side-by-side scatter plots\n",
    "col1, col2, col3 = st.columns(3)\n",
    "\n",
    "with col1:\n",
    "    st.markdown(\"**Recency vs Monetary**\")\n",
    "    fig1, ax1 = plt.subplots()\n",
    "    sns.scatterplot(data=rfm, x=\"Recency\", y=\"Monetary\", hue=\"Cluster\", palette=\"Set2\", alpha=0.7, s=70, ax=ax1)\n",
    "    ax1.set_xlabel(\"Recency (days)\")\n",
    "    ax1.set_ylabel(\"Monetary (£)\")\n",
    "    ax1.set_title(\"Recency vs Monetary\")\n",
    "    st.pyplot(fig1)\n",
    "\n",
    "with col2:\n",
    "    st.markdown(\"**Recency vs Frequency**\")\n",
    "    fig2, ax2 = plt.subplots()\n",
    "    sns.scatterplot(data=rfm, x=\"Recency\", y=\"Frequency\", hue=\"Cluster\", palette=\"Set2\", alpha=0.7, s=70, ax=ax2)\n",
    "    ax2.set_xlabel(\"Recency (days)\")\n",
    "    ax2.set_ylabel(\"Frequency\")\n",
    "    ax2.set_title(\"Recency vs Frequency\")\n",
    "    st.pyplot(fig2)\n",
    "\n",
    "with col3:\n",
    "    st.markdown(\"**Frequency vs Monetary**\")\n",
    "    fig3, ax3 = plt.subplots()\n",
    "    sns.scatterplot(data=rfm, x=\"Frequency\", y=\"Monetary\", hue=\"Cluster\", palette=\"Set2\", alpha=0.7, s=70, ax=ax3)\n",
    "    ax3.set_xlabel(\"Frequency\")\n",
    "    ax3.set_ylabel(\"Monetary (£)\")\n",
    "    ax3.set_title(\"Frequency vs Monetary\")\n",
    "    st.pyplot(fig3)"
   ]
  },
  {
   "cell_type": "code",
   "execution_count": 8,
   "id": "57b35c6f-08c9-4b13-a63b-c83fe21c9207",
   "metadata": {},
   "outputs": [
    {
     "data": {
      "text/plain": [
       "DeltaGenerator()"
      ]
     },
     "execution_count": 8,
     "metadata": {},
     "output_type": "execute_result"
    }
   ],
   "source": [
    "import plotly.express as px\n",
    "\n",
    "# Section: Interactive Scatterplot\n",
    "st.subheader(\"📌 Interactive Scatterplot: Recency vs Monetary\")\n",
    "\n",
    "fig = px.scatter(\n",
    "    rfm,\n",
    "    x=\"Recency\",\n",
    "    y=\"Monetary\",\n",
    "    color=\"Cluster\",\n",
    "    hover_data=[\"CustomerID\", \"Frequency\"],\n",
    "    title=\"Recency vs Monetary (Interactive)\",\n",
    "    color_continuous_scale=px.colors.sequential.Viridis\n",
    ")\n",
    "\n",
    "fig.update_layout(height=500)\n",
    "st.plotly_chart(fig, use_container_width=True)"
   ]
  },
  {
   "cell_type": "code",
   "execution_count": null,
   "id": "7e3c563c-4347-428a-8c94-c5795efe005e",
   "metadata": {},
   "outputs": [],
   "source": []
  }
 ],
 "metadata": {
  "kernelspec": {
   "display_name": "Python 3 (ipykernel)",
   "language": "python",
   "name": "python3"
  },
  "language_info": {
   "codemirror_mode": {
    "name": "ipython",
    "version": 3
   },
   "file_extension": ".py",
   "mimetype": "text/x-python",
   "name": "python",
   "nbconvert_exporter": "python",
   "pygments_lexer": "ipython3",
   "version": "3.12.7"
  }
 },
 "nbformat": 4,
 "nbformat_minor": 5
}
